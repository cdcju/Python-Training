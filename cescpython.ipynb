{
 "cells": [
  {
   "cell_type": "code",
   "execution_count": null,
   "id": "occupational-underground",
   "metadata": {},
   "outputs": [],
   "source": [
    "import pandas as pd\n",
    "df = pd.read_csv(\"empdata.csv\")\n",
    "# df = pd.read_csv(\"smaplecsv.csv\")\n",
    "df\n"
   ]
  },
  {
   "cell_type": "raw",
   "id": "collected-simulation",
   "metadata": {},
   "source": [
    "emp = {\"empid\" :4466}\n",
    "\n",
    "df = DataFrame(emp)"
   ]
  },
  {
   "cell_type": "code",
   "execution_count": null,
   "id": "configured-quest",
   "metadata": {},
   "outputs": [],
   "source": [
    "df.shape"
   ]
  },
  {
   "cell_type": "code",
   "execution_count": null,
   "id": "included-display",
   "metadata": {},
   "outputs": [],
   "source": [
    "r,c = df.shape\n",
    "print(r)"
   ]
  },
  {
   "cell_type": "code",
   "execution_count": null,
   "id": "annual-manor",
   "metadata": {},
   "outputs": [],
   "source": [
    "df.head()"
   ]
  },
  {
   "cell_type": "code",
   "execution_count": null,
   "id": "studied-mountain",
   "metadata": {},
   "outputs": [],
   "source": [
    "df.head(8)"
   ]
  },
  {
   "cell_type": "code",
   "execution_count": null,
   "id": "capital-vacation",
   "metadata": {},
   "outputs": [],
   "source": [
    "df.tail()"
   ]
  },
  {
   "cell_type": "code",
   "execution_count": null,
   "id": "distinct-helmet",
   "metadata": {},
   "outputs": [],
   "source": [
    "df[6:80]"
   ]
  },
  {
   "cell_type": "code",
   "execution_count": null,
   "id": "north-default",
   "metadata": {},
   "outputs": [],
   "source": [
    "df.columns"
   ]
  },
  {
   "cell_type": "code",
   "execution_count": null,
   "id": "drawn-satin",
   "metadata": {},
   "outputs": [],
   "source": [
    "df[' Gross Sales '].max()"
   ]
  },
  {
   "cell_type": "code",
   "execution_count": null,
   "id": "biblical-destiny",
   "metadata": {},
   "outputs": [],
   "source": [
    "df[' Gross Sales '].min()"
   ]
  },
  {
   "cell_type": "code",
   "execution_count": 3,
   "id": "maritime-lesbian",
   "metadata": {},
   "outputs": [
    {
     "data": {
      "text/html": [
       "<div>\n",
       "<style scoped>\n",
       "    .dataframe tbody tr th:only-of-type {\n",
       "        vertical-align: middle;\n",
       "    }\n",
       "\n",
       "    .dataframe tbody tr th {\n",
       "        vertical-align: top;\n",
       "    }\n",
       "\n",
       "    .dataframe thead th {\n",
       "        text-align: right;\n",
       "    }\n",
       "</style>\n",
       "<table border=\"1\" class=\"dataframe\">\n",
       "  <thead>\n",
       "    <tr style=\"text-align: right;\">\n",
       "      <th></th>\n",
       "      <th>sal</th>\n",
       "    </tr>\n",
       "  </thead>\n",
       "  <tbody>\n",
       "    <tr>\n",
       "      <th>count</th>\n",
       "      <td>5.000000</td>\n",
       "    </tr>\n",
       "    <tr>\n",
       "      <th>mean</th>\n",
       "      <td>14447.840000</td>\n",
       "    </tr>\n",
       "    <tr>\n",
       "      <th>std</th>\n",
       "      <td>9800.093404</td>\n",
       "    </tr>\n",
       "    <tr>\n",
       "      <th>min</th>\n",
       "      <td>1500.450000</td>\n",
       "    </tr>\n",
       "    <tr>\n",
       "      <th>25%</th>\n",
       "      <td>10000.000000</td>\n",
       "    </tr>\n",
       "    <tr>\n",
       "      <th>50%</th>\n",
       "      <td>12369.000000</td>\n",
       "    </tr>\n",
       "    <tr>\n",
       "      <th>75%</th>\n",
       "      <td>23000.000000</td>\n",
       "    </tr>\n",
       "    <tr>\n",
       "      <th>max</th>\n",
       "      <td>25369.750000</td>\n",
       "    </tr>\n",
       "  </tbody>\n",
       "</table>\n",
       "</div>"
      ],
      "text/plain": [
       "                sal\n",
       "count      5.000000\n",
       "mean   14447.840000\n",
       "std     9800.093404\n",
       "min     1500.450000\n",
       "25%    10000.000000\n",
       "50%    12369.000000\n",
       "75%    23000.000000\n",
       "max    25369.750000"
      ]
     },
     "execution_count": 3,
     "metadata": {},
     "output_type": "execute_result"
    }
   ],
   "source": [
    "# import pandas as pd\n",
    "# df = pd.read_csv(\"empdata.csv\")\n",
    "# # describe\n",
    "# df.describe()"
   ]
  },
  {
   "cell_type": "code",
   "execution_count": 5,
   "id": "legislative-maldives",
   "metadata": {},
   "outputs": [
    {
     "data": {
      "text/html": [
       "<div>\n",
       "<style scoped>\n",
       "    .dataframe tbody tr th:only-of-type {\n",
       "        vertical-align: middle;\n",
       "    }\n",
       "\n",
       "    .dataframe tbody tr th {\n",
       "        vertical-align: top;\n",
       "    }\n",
       "\n",
       "    .dataframe thead th {\n",
       "        text-align: right;\n",
       "    }\n",
       "</style>\n",
       "<table border=\"1\" class=\"dataframe\">\n",
       "  <thead>\n",
       "    <tr style=\"text-align: right;\">\n",
       "      <th></th>\n",
       "      <th>empid</th>\n",
       "      <th>ename</th>\n",
       "      <th>sal</th>\n",
       "      <th>doj</th>\n",
       "    </tr>\n",
       "  </thead>\n",
       "  <tbody>\n",
       "    <tr>\n",
       "      <th>1</th>\n",
       "      <td>E-101</td>\n",
       "      <td>S meheta</td>\n",
       "      <td>23000.00</td>\n",
       "      <td>1/12/2003</td>\n",
       "    </tr>\n",
       "    <tr>\n",
       "      <th>2</th>\n",
       "      <td>S-102</td>\n",
       "      <td>C Banerjee</td>\n",
       "      <td>25369.75</td>\n",
       "      <td>10/11/2015</td>\n",
       "    </tr>\n",
       "    <tr>\n",
       "      <th>4</th>\n",
       "      <td>E-104</td>\n",
       "      <td>Ananta Nag</td>\n",
       "      <td>12369.00</td>\n",
       "      <td>9/9/2013</td>\n",
       "    </tr>\n",
       "  </tbody>\n",
       "</table>\n",
       "</div>"
      ],
      "text/plain": [
       "   empid       ename       sal         doj\n",
       "1  E-101    S meheta  23000.00   1/12/2003\n",
       "2  S-102  C Banerjee  25369.75  10/11/2015\n",
       "4  E-104  Ananta Nag  12369.00    9/9/2013"
      ]
     },
     "execution_count": 5,
     "metadata": {},
     "output_type": "execute_result"
    }
   ],
   "source": [
    "df[df.sal >11000]"
   ]
  },
  {
   "cell_type": "code",
   "execution_count": 6,
   "id": "worth-example",
   "metadata": {},
   "outputs": [
    {
     "data": {
      "text/html": [
       "<div>\n",
       "<style scoped>\n",
       "    .dataframe tbody tr th:only-of-type {\n",
       "        vertical-align: middle;\n",
       "    }\n",
       "\n",
       "    .dataframe tbody tr th {\n",
       "        vertical-align: top;\n",
       "    }\n",
       "\n",
       "    .dataframe thead th {\n",
       "        text-align: right;\n",
       "    }\n",
       "</style>\n",
       "<table border=\"1\" class=\"dataframe\">\n",
       "  <thead>\n",
       "    <tr style=\"text-align: right;\">\n",
       "      <th></th>\n",
       "      <th>ename</th>\n",
       "      <th>empid</th>\n",
       "    </tr>\n",
       "  </thead>\n",
       "  <tbody>\n",
       "    <tr>\n",
       "      <th>1</th>\n",
       "      <td>S meheta</td>\n",
       "      <td>E-101</td>\n",
       "    </tr>\n",
       "    <tr>\n",
       "      <th>2</th>\n",
       "      <td>C Banerjee</td>\n",
       "      <td>S-102</td>\n",
       "    </tr>\n",
       "    <tr>\n",
       "      <th>4</th>\n",
       "      <td>Ananta Nag</td>\n",
       "      <td>E-104</td>\n",
       "    </tr>\n",
       "  </tbody>\n",
       "</table>\n",
       "</div>"
      ],
      "text/plain": [
       "        ename  empid\n",
       "1    S meheta  E-101\n",
       "2  C Banerjee  S-102\n",
       "4  Ananta Nag  E-104"
      ]
     },
     "execution_count": 6,
     "metadata": {},
     "output_type": "execute_result"
    }
   ],
   "source": [
    "df[['ename', 'empid']][df.sal >11000]"
   ]
  },
  {
   "cell_type": "code",
   "execution_count": 10,
   "id": "hairy-lancaster",
   "metadata": {},
   "outputs": [
    {
     "data": {
      "text/html": [
       "<div>\n",
       "<style scoped>\n",
       "    .dataframe tbody tr th:only-of-type {\n",
       "        vertical-align: middle;\n",
       "    }\n",
       "\n",
       "    .dataframe tbody tr th {\n",
       "        vertical-align: top;\n",
       "    }\n",
       "\n",
       "    .dataframe thead th {\n",
       "        text-align: right;\n",
       "    }\n",
       "</style>\n",
       "<table border=\"1\" class=\"dataframe\">\n",
       "  <thead>\n",
       "    <tr style=\"text-align: right;\">\n",
       "      <th></th>\n",
       "      <th>empid</th>\n",
       "      <th>ename</th>\n",
       "      <th>sal</th>\n",
       "      <th>doj</th>\n",
       "    </tr>\n",
       "  </thead>\n",
       "  <tbody>\n",
       "    <tr>\n",
       "      <th>0</th>\n",
       "      <td>E-100</td>\n",
       "      <td>A kumar</td>\n",
       "      <td>10000.00</td>\n",
       "      <td>2018-09-19</td>\n",
       "    </tr>\n",
       "    <tr>\n",
       "      <th>1</th>\n",
       "      <td>E-101</td>\n",
       "      <td>S meheta</td>\n",
       "      <td>23000.00</td>\n",
       "      <td>2003-01-12</td>\n",
       "    </tr>\n",
       "    <tr>\n",
       "      <th>2</th>\n",
       "      <td>S-102</td>\n",
       "      <td>C Banerjee</td>\n",
       "      <td>25369.75</td>\n",
       "      <td>2015-10-11</td>\n",
       "    </tr>\n",
       "    <tr>\n",
       "      <th>3</th>\n",
       "      <td>D-103</td>\n",
       "      <td>S Saha</td>\n",
       "      <td>1500.45</td>\n",
       "      <td>2008-12-11</td>\n",
       "    </tr>\n",
       "    <tr>\n",
       "      <th>4</th>\n",
       "      <td>E-104</td>\n",
       "      <td>Ananta Nag</td>\n",
       "      <td>12369.00</td>\n",
       "      <td>2013-09-09</td>\n",
       "    </tr>\n",
       "  </tbody>\n",
       "</table>\n",
       "</div>"
      ],
      "text/plain": [
       "   empid       ename       sal        doj\n",
       "0  E-100     A kumar  10000.00 2018-09-19\n",
       "1  E-101    S meheta  23000.00 2003-01-12\n",
       "2  S-102  C Banerjee  25369.75 2015-10-11\n",
       "3  D-103      S Saha   1500.45 2008-12-11\n",
       "4  E-104  Ananta Nag  12369.00 2013-09-09"
      ]
     },
     "execution_count": 10,
     "metadata": {},
     "output_type": "execute_result"
    }
   ],
   "source": [
    "import pandas as pd\n",
    "df1 = pd.read_csv(\"empdata.csv\", parse_dates =['doj'])\n",
    "# taking date as account\n",
    "df1"
   ]
  },
  {
   "cell_type": "code",
   "execution_count": 14,
   "id": "medium-alaska",
   "metadata": {},
   "outputs": [
    {
     "data": {
      "text/html": [
       "<div>\n",
       "<style scoped>\n",
       "    .dataframe tbody tr th:only-of-type {\n",
       "        vertical-align: middle;\n",
       "    }\n",
       "\n",
       "    .dataframe tbody tr th {\n",
       "        vertical-align: top;\n",
       "    }\n",
       "\n",
       "    .dataframe thead th {\n",
       "        text-align: right;\n",
       "    }\n",
       "</style>\n",
       "<table border=\"1\" class=\"dataframe\">\n",
       "  <thead>\n",
       "    <tr style=\"text-align: right;\">\n",
       "      <th></th>\n",
       "      <th>empid</th>\n",
       "      <th>ename</th>\n",
       "      <th>sal</th>\n",
       "      <th>doj</th>\n",
       "    </tr>\n",
       "  </thead>\n",
       "  <tbody>\n",
       "    <tr>\n",
       "      <th>0</th>\n",
       "      <td>E-100</td>\n",
       "      <td>A kumar</td>\n",
       "      <td>10000.00</td>\n",
       "      <td>2018-09-19</td>\n",
       "    </tr>\n",
       "    <tr>\n",
       "      <th>2</th>\n",
       "      <td>S-102</td>\n",
       "      <td>C Banerjee</td>\n",
       "      <td>25369.75</td>\n",
       "      <td>2015-10-11</td>\n",
       "    </tr>\n",
       "    <tr>\n",
       "      <th>4</th>\n",
       "      <td>E-104</td>\n",
       "      <td>Ananta Nag</td>\n",
       "      <td>12369.00</td>\n",
       "      <td>2013-09-09</td>\n",
       "    </tr>\n",
       "    <tr>\n",
       "      <th>3</th>\n",
       "      <td>D-103</td>\n",
       "      <td>S Saha</td>\n",
       "      <td>1500.45</td>\n",
       "      <td>2008-12-11</td>\n",
       "    </tr>\n",
       "    <tr>\n",
       "      <th>1</th>\n",
       "      <td>E-101</td>\n",
       "      <td>S meheta</td>\n",
       "      <td>23000.00</td>\n",
       "      <td>2003-01-12</td>\n",
       "    </tr>\n",
       "  </tbody>\n",
       "</table>\n",
       "</div>"
      ],
      "text/plain": [
       "   empid       ename       sal        doj\n",
       "0  E-100     A kumar  10000.00 2018-09-19\n",
       "2  S-102  C Banerjee  25369.75 2015-10-11\n",
       "4  E-104  Ananta Nag  12369.00 2013-09-09\n",
       "3  D-103      S Saha   1500.45 2008-12-11\n",
       "1  E-101    S meheta  23000.00 2003-01-12"
      ]
     },
     "execution_count": 14,
     "metadata": {},
     "output_type": "execute_result"
    }
   ],
   "source": [
    "df2 = df1.sort_values('doj', ascending = False)\n",
    "df2"
   ]
  },
  {
   "cell_type": "code",
   "execution_count": 15,
   "id": "premier-problem",
   "metadata": {},
   "outputs": [
    {
     "data": {
      "text/html": [
       "<div>\n",
       "<style scoped>\n",
       "    .dataframe tbody tr th:only-of-type {\n",
       "        vertical-align: middle;\n",
       "    }\n",
       "\n",
       "    .dataframe tbody tr th {\n",
       "        vertical-align: top;\n",
       "    }\n",
       "\n",
       "    .dataframe thead th {\n",
       "        text-align: right;\n",
       "    }\n",
       "</style>\n",
       "<table border=\"1\" class=\"dataframe\">\n",
       "  <thead>\n",
       "    <tr style=\"text-align: right;\">\n",
       "      <th></th>\n",
       "      <th>empid</th>\n",
       "      <th>ename</th>\n",
       "      <th>sal</th>\n",
       "      <th>doj</th>\n",
       "    </tr>\n",
       "  </thead>\n",
       "  <tbody>\n",
       "    <tr>\n",
       "      <th>0</th>\n",
       "      <td>E-100</td>\n",
       "      <td>A kumar</td>\n",
       "      <td>10000.00</td>\n",
       "      <td>19/09/2018</td>\n",
       "    </tr>\n",
       "    <tr>\n",
       "      <th>1</th>\n",
       "      <td>E-101</td>\n",
       "      <td>S meheta</td>\n",
       "      <td>23000.00</td>\n",
       "      <td>1/12/2003</td>\n",
       "    </tr>\n",
       "    <tr>\n",
       "      <th>2</th>\n",
       "      <td>S-102</td>\n",
       "      <td>NaN</td>\n",
       "      <td>25369.75</td>\n",
       "      <td>10/11/2015</td>\n",
       "    </tr>\n",
       "    <tr>\n",
       "      <th>3</th>\n",
       "      <td>D-103</td>\n",
       "      <td>S Saha</td>\n",
       "      <td>1500.45</td>\n",
       "      <td>NaN</td>\n",
       "    </tr>\n",
       "    <tr>\n",
       "      <th>4</th>\n",
       "      <td>E-104</td>\n",
       "      <td>Ananta Nag</td>\n",
       "      <td>12369.00</td>\n",
       "      <td>9/9/2013</td>\n",
       "    </tr>\n",
       "  </tbody>\n",
       "</table>\n",
       "</div>"
      ],
      "text/plain": [
       "   empid       ename       sal         doj\n",
       "0  E-100     A kumar  10000.00  19/09/2018\n",
       "1  E-101    S meheta  23000.00   1/12/2003\n",
       "2  S-102         NaN  25369.75  10/11/2015\n",
       "3  D-103      S Saha   1500.45         NaN\n",
       "4  E-104  Ananta Nag  12369.00    9/9/2013"
      ]
     },
     "execution_count": 15,
     "metadata": {},
     "output_type": "execute_result"
    }
   ],
   "source": [
    "df3 = pd.read_csv(\"empdata2.csv\")\n",
    "df3 "
   ]
  },
  {
   "cell_type": "code",
   "execution_count": 16,
   "id": "measured-twenty",
   "metadata": {},
   "outputs": [
    {
     "data": {
      "text/html": [
       "<div>\n",
       "<style scoped>\n",
       "    .dataframe tbody tr th:only-of-type {\n",
       "        vertical-align: middle;\n",
       "    }\n",
       "\n",
       "    .dataframe tbody tr th {\n",
       "        vertical-align: top;\n",
       "    }\n",
       "\n",
       "    .dataframe thead th {\n",
       "        text-align: right;\n",
       "    }\n",
       "</style>\n",
       "<table border=\"1\" class=\"dataframe\">\n",
       "  <thead>\n",
       "    <tr style=\"text-align: right;\">\n",
       "      <th></th>\n",
       "      <th>sal</th>\n",
       "    </tr>\n",
       "  </thead>\n",
       "  <tbody>\n",
       "    <tr>\n",
       "      <th>count</th>\n",
       "      <td>5.000000</td>\n",
       "    </tr>\n",
       "    <tr>\n",
       "      <th>mean</th>\n",
       "      <td>14447.840000</td>\n",
       "    </tr>\n",
       "    <tr>\n",
       "      <th>std</th>\n",
       "      <td>9800.093404</td>\n",
       "    </tr>\n",
       "    <tr>\n",
       "      <th>min</th>\n",
       "      <td>1500.450000</td>\n",
       "    </tr>\n",
       "    <tr>\n",
       "      <th>25%</th>\n",
       "      <td>10000.000000</td>\n",
       "    </tr>\n",
       "    <tr>\n",
       "      <th>50%</th>\n",
       "      <td>12369.000000</td>\n",
       "    </tr>\n",
       "    <tr>\n",
       "      <th>75%</th>\n",
       "      <td>23000.000000</td>\n",
       "    </tr>\n",
       "    <tr>\n",
       "      <th>max</th>\n",
       "      <td>25369.750000</td>\n",
       "    </tr>\n",
       "  </tbody>\n",
       "</table>\n",
       "</div>"
      ],
      "text/plain": [
       "                sal\n",
       "count      5.000000\n",
       "mean   14447.840000\n",
       "std     9800.093404\n",
       "min     1500.450000\n",
       "25%    10000.000000\n",
       "50%    12369.000000\n",
       "75%    23000.000000\n",
       "max    25369.750000"
      ]
     },
     "execution_count": 16,
     "metadata": {},
     "output_type": "execute_result"
    }
   ],
   "source": [
    "df3.describe()"
   ]
  },
  {
   "cell_type": "code",
   "execution_count": 17,
   "id": "certified-closing",
   "metadata": {},
   "outputs": [
    {
     "data": {
      "text/html": [
       "<div>\n",
       "<style scoped>\n",
       "    .dataframe tbody tr th:only-of-type {\n",
       "        vertical-align: middle;\n",
       "    }\n",
       "\n",
       "    .dataframe tbody tr th {\n",
       "        vertical-align: top;\n",
       "    }\n",
       "\n",
       "    .dataframe thead th {\n",
       "        text-align: right;\n",
       "    }\n",
       "</style>\n",
       "<table border=\"1\" class=\"dataframe\">\n",
       "  <thead>\n",
       "    <tr style=\"text-align: right;\">\n",
       "      <th></th>\n",
       "      <th>empid</th>\n",
       "      <th>ename</th>\n",
       "      <th>sal</th>\n",
       "      <th>doj</th>\n",
       "    </tr>\n",
       "  </thead>\n",
       "  <tbody>\n",
       "    <tr>\n",
       "      <th>0</th>\n",
       "      <td>E-100</td>\n",
       "      <td>A kumar</td>\n",
       "      <td>10000.00</td>\n",
       "      <td>19/09/2018</td>\n",
       "    </tr>\n",
       "    <tr>\n",
       "      <th>1</th>\n",
       "      <td>E-101</td>\n",
       "      <td>S meheta</td>\n",
       "      <td>23000.00</td>\n",
       "      <td>1/12/2003</td>\n",
       "    </tr>\n",
       "    <tr>\n",
       "      <th>2</th>\n",
       "      <td>S-102</td>\n",
       "      <td>0</td>\n",
       "      <td>25369.75</td>\n",
       "      <td>10/11/2015</td>\n",
       "    </tr>\n",
       "    <tr>\n",
       "      <th>3</th>\n",
       "      <td>D-103</td>\n",
       "      <td>S Saha</td>\n",
       "      <td>1500.45</td>\n",
       "      <td>0</td>\n",
       "    </tr>\n",
       "    <tr>\n",
       "      <th>4</th>\n",
       "      <td>E-104</td>\n",
       "      <td>Ananta Nag</td>\n",
       "      <td>12369.00</td>\n",
       "      <td>9/9/2013</td>\n",
       "    </tr>\n",
       "  </tbody>\n",
       "</table>\n",
       "</div>"
      ],
      "text/plain": [
       "   empid       ename       sal         doj\n",
       "0  E-100     A kumar  10000.00  19/09/2018\n",
       "1  E-101    S meheta  23000.00   1/12/2003\n",
       "2  S-102           0  25369.75  10/11/2015\n",
       "3  D-103      S Saha   1500.45           0\n",
       "4  E-104  Ananta Nag  12369.00    9/9/2013"
      ]
     },
     "execution_count": 17,
     "metadata": {},
     "output_type": "execute_result"
    }
   ],
   "source": [
    "# df3 = df3.fillna(0)\n",
    "# df3"
   ]
  },
  {
   "cell_type": "code",
   "execution_count": 19,
   "id": "portuguese-spring",
   "metadata": {},
   "outputs": [
    {
     "data": {
      "text/html": [
       "<div>\n",
       "<style scoped>\n",
       "    .dataframe tbody tr th:only-of-type {\n",
       "        vertical-align: middle;\n",
       "    }\n",
       "\n",
       "    .dataframe tbody tr th {\n",
       "        vertical-align: top;\n",
       "    }\n",
       "\n",
       "    .dataframe thead th {\n",
       "        text-align: right;\n",
       "    }\n",
       "</style>\n",
       "<table border=\"1\" class=\"dataframe\">\n",
       "  <thead>\n",
       "    <tr style=\"text-align: right;\">\n",
       "      <th></th>\n",
       "      <th>empid</th>\n",
       "      <th>ename</th>\n",
       "      <th>sal</th>\n",
       "      <th>doj</th>\n",
       "    </tr>\n",
       "  </thead>\n",
       "  <tbody>\n",
       "    <tr>\n",
       "      <th>0</th>\n",
       "      <td>E-100</td>\n",
       "      <td>A kumar</td>\n",
       "      <td>10000.00</td>\n",
       "      <td>19/09/2018</td>\n",
       "    </tr>\n",
       "    <tr>\n",
       "      <th>1</th>\n",
       "      <td>E-101</td>\n",
       "      <td>S meheta</td>\n",
       "      <td>23000.00</td>\n",
       "      <td>1/12/2003</td>\n",
       "    </tr>\n",
       "    <tr>\n",
       "      <th>2</th>\n",
       "      <td>S-102</td>\n",
       "      <td>0</td>\n",
       "      <td>25369.75</td>\n",
       "      <td>10/11/2015</td>\n",
       "    </tr>\n",
       "    <tr>\n",
       "      <th>3</th>\n",
       "      <td>D-103</td>\n",
       "      <td>S Saha</td>\n",
       "      <td>1500.45</td>\n",
       "      <td>0</td>\n",
       "    </tr>\n",
       "    <tr>\n",
       "      <th>4</th>\n",
       "      <td>E-104</td>\n",
       "      <td>Ananta Nag</td>\n",
       "      <td>12369.00</td>\n",
       "      <td>9/9/2013</td>\n",
       "    </tr>\n",
       "  </tbody>\n",
       "</table>\n",
       "</div>"
      ],
      "text/plain": [
       "   empid       ename       sal         doj\n",
       "0  E-100     A kumar  10000.00  19/09/2018\n",
       "1  E-101    S meheta  23000.00   1/12/2003\n",
       "2  S-102           0  25369.75  10/11/2015\n",
       "3  D-103      S Saha   1500.45           0\n",
       "4  E-104  Ananta Nag  12369.00    9/9/2013"
      ]
     },
     "execution_count": 19,
     "metadata": {},
     "output_type": "execute_result"
    }
   ],
   "source": [
    "df3 = df3.dropna()\n",
    "df3"
   ]
  },
  {
   "cell_type": "code",
   "execution_count": 20,
   "id": "furnished-senator",
   "metadata": {},
   "outputs": [
    {
     "data": {
      "text/html": [
       "<div>\n",
       "<style scoped>\n",
       "    .dataframe tbody tr th:only-of-type {\n",
       "        vertical-align: middle;\n",
       "    }\n",
       "\n",
       "    .dataframe tbody tr th {\n",
       "        vertical-align: top;\n",
       "    }\n",
       "\n",
       "    .dataframe thead th {\n",
       "        text-align: right;\n",
       "    }\n",
       "</style>\n",
       "<table border=\"1\" class=\"dataframe\">\n",
       "  <thead>\n",
       "    <tr style=\"text-align: right;\">\n",
       "      <th></th>\n",
       "      <th>empid</th>\n",
       "      <th>ename</th>\n",
       "      <th>sal</th>\n",
       "      <th>doj</th>\n",
       "    </tr>\n",
       "  </thead>\n",
       "  <tbody>\n",
       "    <tr>\n",
       "      <th>0</th>\n",
       "      <td>E-100</td>\n",
       "      <td>A kumar</td>\n",
       "      <td>10000.0</td>\n",
       "      <td>19/09/2018</td>\n",
       "    </tr>\n",
       "    <tr>\n",
       "      <th>1</th>\n",
       "      <td>E-101</td>\n",
       "      <td>S meheta</td>\n",
       "      <td>23000.0</td>\n",
       "      <td>1/12/2003</td>\n",
       "    </tr>\n",
       "    <tr>\n",
       "      <th>4</th>\n",
       "      <td>E-104</td>\n",
       "      <td>Ananta Nag</td>\n",
       "      <td>12369.0</td>\n",
       "      <td>9/9/2013</td>\n",
       "    </tr>\n",
       "  </tbody>\n",
       "</table>\n",
       "</div>"
      ],
      "text/plain": [
       "   empid       ename      sal         doj\n",
       "0  E-100     A kumar  10000.0  19/09/2018\n",
       "1  E-101    S meheta  23000.0   1/12/2003\n",
       "4  E-104  Ananta Nag  12369.0    9/9/2013"
      ]
     },
     "execution_count": 20,
     "metadata": {},
     "output_type": "execute_result"
    }
   ],
   "source": [
    "df4 = pd.read_csv(\"empdata2.csv\")\n",
    "df4 = df4.dropna()\n",
    "df4"
   ]
  },
  {
   "cell_type": "code",
   "execution_count": 23,
   "id": "collectible-consultation",
   "metadata": {},
   "outputs": [
    {
     "data": {
      "image/png": "[encoded data removed]",
      "text/plain": [
       "<Figure size 432x288 with 1 Axes>"
      ]
     },
     "metadata": {
      "needs_background": "light"
     },
     "output_type": "display_data"
    }
   ],
   "source": [
    "#bar graph on the employee set\n",
    "\n",
    "import pandas as pd\n",
    "import matplotlib.pyplot as plt\n",
    "df = pd.read_csv(\"empdata.csv\")\n",
    "\n",
    "x = df['empid']\n",
    "y = df['sal']\n",
    "plt.bar(x,y, label= \"employee Salary\" , color='red')\n",
    "plt.xlabel(\"Id of employee\")\n",
    "plt.ylabel(\"salary of employee\")\n",
    "plt.title(\"Bar graph\")\n",
    "\n",
    "plt.legend()\n",
    "plt.show()\n"
   ]
  },
  {
   "cell_type": "code",
   "execution_count": 27,
   "id": "tutorial-stand",
   "metadata": {},
   "outputs": [
    {
     "data": {
      "image/png": "[encoded data removed]",
      "text/plain": [
       "<Figure size 432x288 with 1 Axes>"
      ]
     },
     "metadata": {},
     "output_type": "display_data"
    }
   ],
   "source": [
    "import matplotlib.pyplot as plt\n",
    "sl = [40,30,15,15]\n",
    "dept = [\"Sales\", \"IT\", \"HR\", \"Production\"]\n",
    "color = [\"red\", \"magenta\", \"cyan\" , \"brown\"]\n",
    "\n",
    "plt.pie(sl, labels=dept, colors=color, shadow=True)\n",
    "plt.legend()\n",
    "plt.show()\n"
   ]
  },
  {
   "cell_type": "code",
   "execution_count": null,
   "id": "ready-california",
   "metadata": {},
   "outputs": [],
   "source": []
  }
 ],
 "metadata": {
  "kernelspec": {
   "display_name": "Python 3",
   "language": "python",
   "name": "python3"
  },
  "language_info": {
   "codemirror_mode": {
    "name": "ipython",
    "version": 3
   },
   "file_extension": ".py",
   "mimetype": "text/x-python",
   "name": "python",
   "nbconvert_exporter": "python",
   "pygments_lexer": "ipython3",
   "version": "3.8.2"
  }
 },
 "nbformat": 4,
 "nbformat_minor": 5
}
